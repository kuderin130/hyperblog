{
  "cells": [
    {
      "cell_type": "markdown",
      "metadata": {
        "id": "view-in-github",
        "colab_type": "text"
      },
      "source": [
        "<a href=\"https://colab.research.google.com/github/kuderin130/hyperblog/blob/main/Copia_de_python_(1).ipynb\" target=\"_parent\"><img src=\"https://colab.research.google.com/assets/colab-badge.svg\" alt=\"Open In Colab\"/></a>"
      ]
    },
    {
      "cell_type": "markdown",
      "source": [
        "Nombre: Crhistopher Lagos Miño\n",
        "Matricula: 2022406057\n",
        "Modulo: taller de analisis numerico seccion A"
      ],
      "metadata": {
        "id": "vtmJ5Yo3QcBy"
      }
    },
    {
      "cell_type": "markdown",
      "metadata": {
        "id": "fXxh8xKjQayd"
      },
      "source": [
        "## EJERCICIO 1"
      ]
    },
    {
      "cell_type": "code",
      "execution_count": null,
      "metadata": {
        "id": "i5IAUjr5Qayj"
      },
      "outputs": [],
      "source": [
        "import numpy as np"
      ]
    },
    {
      "cell_type": "markdown",
      "metadata": {
        "id": "LAZ6kp1eQaym"
      },
      "source": [
        "el codigo opera una funcion con sus x y muestra la solucion correspondiente"
      ]
    },
    {
      "cell_type": "code",
      "execution_count": null,
      "metadata": {
        "id": "1N_zjtOuQayn",
        "outputId": "8f8c18fc-8972-41df-eb5c-1e8b6257b849"
      },
      "outputs": [
        {
          "name": "stdout",
          "output_type": "stream",
          "text": [
            "vector original:  [1, 2, 3, 4, 5, 6, 7, 8, 9, 10]\n",
            "vector despues de la operacion:  [1.8427314603931402, 2.4773967846622047, 5.027256152898559, 11.800332090852358, 27.43036421042251, 62.66557998555331, 149.61575252956763, 386.5551870757441, 1069.388523635387, 3035.368788401858]\n"
          ]
        }
      ],
      "source": [
        "a = list(range(1,11))\n",
        "b = []\n",
        "for i in a:\n",
        "    n = (np.sqrt(5*i) + 3**i)/(2*i+np.sin(i))\n",
        "    b.append(n)\n",
        "print(\"vector original: \", a)\n",
        "print(\"vector despues de la operacion: \", b)"
      ]
    },
    {
      "cell_type": "markdown",
      "metadata": {
        "id": "5S1dxIiEQayp"
      },
      "source": [
        "## Ejercicio 2"
      ]
    },
    {
      "cell_type": "code",
      "execution_count": null,
      "metadata": {
        "id": "srPAvBAPQayq"
      },
      "outputs": [],
      "source": [
        "def conversor(deci):\n",
        "    e = len(deci) - 1\n",
        "    sum = 0\n",
        "    for i in range(0, len(deci)):\n",
        "        sum += int(deci[e])*2**(i)\n",
        "        #print(sum, i)\n",
        "        e = e-1\n",
        "    return sum\n"
      ]
    },
    {
      "cell_type": "code",
      "execution_count": null,
      "metadata": {
        "id": "YaIWil_xQayq"
      },
      "outputs": [],
      "source": [
        "decimal_a = \"0\"\n",
        "decimal_b = \"10000001010\"\n",
        "decimal_c = \"1001001\"\n",
        "decimal_d = \"100000000000000000000000000000000000000000000\""
      ]
    },
    {
      "cell_type": "code",
      "execution_count": null,
      "metadata": {
        "id": "s_OeJZO3Qayr",
        "outputId": "b6656411-74bb-4b89-acf6-44e687ecebc4"
      },
      "outputs": [
        {
          "name": "stdout",
          "output_type": "stream",
          "text": [
            "0 1034 73 17592186044416\n"
          ]
        }
      ],
      "source": [
        "a = conversor(int(decimal_a,2))\n",
        "b = conversor(decimal_b)\n",
        "c = conversor(decimal_c)\n",
        "d = conversor(decimal_d)\n",
        "print (a, b, c, d)"
      ]
    },
    {
      "cell_type": "markdown",
      "metadata": {
        "id": "qGyABA3vQayr"
      },
      "source": [
        "## EJERCICIO 3"
      ]
    },
    {
      "cell_type": "markdown",
      "metadata": {
        "id": "I7D3WSbgQays"
      },
      "source": [
        "calcula la norma de orden 1, 2 e inf de un vector, luego le suma un vector en su forma negativa y calcula la norma de orden 2"
      ]
    },
    {
      "cell_type": "code",
      "execution_count": null,
      "metadata": {
        "id": "CKU3JpPYQayt",
        "outputId": "6cfee3e4-dc3d-4cf0-b6bb-8f770e093aa0"
      },
      "outputs": [
        {
          "name": "stdout",
          "output_type": "stream",
          "text": [
            "la norma de orden 1, orden 2 y inf respectivamente son:  267.0 ,  205.55048041782825 ,  199.0\n"
          ]
        }
      ],
      "source": [
        "import numpy as np\n",
        "v = [-199,21,47]\n",
        "norma_1 = np.linalg.norm(x = v, ord=1)\n",
        "norma_2 = np.linalg.norm(x=v, ord=2)\n",
        "norma_inf = np.linalg.norm(x=v, ord = np.inf)\n",
        "print(\"la norma de orden 1, orden 2 y inf respectivamente son: \", norma_1,\", \", norma_2,\", \", norma_inf)"
      ]
    },
    {
      "cell_type": "code",
      "execution_count": null,
      "metadata": {
        "id": "0fgcVqmdQayu",
        "outputId": "be9c431d-d15d-4a31-f139-c319befdb9cf"
      },
      "outputs": [
        {
          "name": "stdout",
          "output_type": "stream",
          "text": [
            "la norma de orden 2 del nuevo vector v-w:  279.48524111301475\n"
          ]
        }
      ],
      "source": [
        "w= [50, -180, -31]\n",
        "k = v+w\n",
        "norma_2_k = np.linalg.norm(ord=2, x = k)\n",
        "print(\"la norma de orden 2 del nuevo vector v-w: \", norma_2_k)"
      ]
    },
    {
      "cell_type": "markdown",
      "metadata": {
        "id": "OS5e7pksQayu"
      },
      "source": [
        " Concluyo que ahora en el nuevo vector k queda mas lejos del origen que el vector v"
      ]
    },
    {
      "cell_type": "markdown",
      "metadata": {
        "id": "QNDDTHowQayu"
      },
      "source": [
        "## Ejercicio 4"
      ]
    },
    {
      "cell_type": "markdown",
      "metadata": {
        "id": "Hpav7AQgQayv"
      },
      "source": [
        "calcula la norma frobenius de la matriz identidad 4x4"
      ]
    },
    {
      "cell_type": "code",
      "execution_count": null,
      "metadata": {
        "id": "Fl1O6cWxQayv",
        "outputId": "72b1c517-3845-4592-f639-72694bc411e9"
      },
      "outputs": [
        {
          "name": "stdout",
          "output_type": "stream",
          "text": [
            "la norma frobenius es:  18.947295321496416\n"
          ]
        }
      ],
      "source": [
        "A = np.eye(4)\n",
        "A[0,2] += 15\n",
        "A[1,3] += -7\n",
        "A[3,1] += 9\n",
        "norma_f = np.linalg.norm(ord=\"fro\", x= A)\n",
        "print(\"la norma frobenius es: \", norma_f)"
      ]
    },
    {
      "cell_type": "markdown",
      "metadata": {
        "id": "kK9ApgE2Qayw"
      },
      "source": [
        "## EJERCICIO 5"
      ]
    },
    {
      "cell_type": "markdown",
      "metadata": {
        "id": "5rzYsARUQayw"
      },
      "source": [
        "calcula el producto punto y el vector cruz de los vectores v_1 y v_2"
      ]
    },
    {
      "cell_type": "code",
      "execution_count": null,
      "metadata": {
        "id": "dRpV-PT_Qayw",
        "outputId": "05031cd6-dca2-41eb-a9b2-e8ac4b9cadc9"
      },
      "outputs": [
        {
          "name": "stdout",
          "output_type": "stream",
          "text": [
            "el producto punto del vector v1.v2 es:  -285\n",
            "el producto cruz de v_1 x v_2 es:  [1023  530 1452]\n"
          ]
        }
      ],
      "source": [
        "v_1= [44,0,-31]\n",
        "v_2 = [-10,33,-5]\n",
        "print(\"el producto punto del vector v1.v2 es: \", np.dot(v_1,v_2))\n",
        "print(\"el producto cruz de v_1 x v_2 es: \", np.cross(v_1,v_2))"
      ]
    },
    {
      "cell_type": "markdown",
      "metadata": {
        "id": "hno5J90CQayx"
      },
      "source": [
        "## EJERCICIO 6"
      ]
    },
    {
      "cell_type": "markdown",
      "metadata": {
        "id": "WYozD-02Qayx"
      },
      "source": [
        "resuelve el sistema de ecuaciones lineales"
      ]
    },
    {
      "cell_type": "code",
      "execution_count": null,
      "metadata": {
        "id": "TTihRjlEQayx",
        "outputId": "44d8b6da-3d95-48ff-f2e3-1f9fcebb1a28"
      },
      "outputs": [
        {
          "data": {
            "text/plain": [
              "array([[ 5.],\n",
              "       [ 3.],\n",
              "       [-2.]])"
            ]
          },
          "execution_count": 72,
          "metadata": {},
          "output_type": "execute_result"
        }
      ],
      "source": [
        "K_1 = np.array([[1,1,1], [0,2,5], [2,5,-1]])\n",
        "K_2 = np.array([[6],[-4], [27]])\n",
        "np.linalg.solve(K_1, K_2)"
      ]
    },
    {
      "cell_type": "markdown",
      "metadata": {
        "id": "X720FGvsQayy"
      },
      "source": [
        "## Ejercicio 7"
      ]
    },
    {
      "cell_type": "markdown",
      "metadata": {
        "id": "V__faXbBQayz"
      },
      "source": [
        "calcula la transpuesta y la inversa de la matriz A"
      ]
    },
    {
      "cell_type": "code",
      "execution_count": null,
      "metadata": {
        "id": "65Cu_ZwmQayz",
        "outputId": "5d19d010-8a44-463a-f0bc-4a2b44346766"
      },
      "outputs": [
        {
          "name": "stdout",
          "output_type": "stream",
          "text": [
            "[[ 1  3  5]\n",
            " [ 7 -4  8]\n",
            " [-9  6  3]] : su transpuesta es\n",
            "su determinante es:  -309.0000000000001\n",
            "[[ 0.19417476  0.30097087 -0.01941748]\n",
            " [-0.06796117 -0.15533981  0.10679612]\n",
            " [-0.14239482 -0.08737864  0.08090615]] : su inversa es\n"
          ]
        }
      ],
      "source": [
        "A = np.array([[1,7,-9],[3,-4,6],[5,8,3]])\n",
        "print(A.T, \": su transpuesta es\")\n",
        "print(\"su determinante es: \", np.linalg.det(A))\n",
        "print(np.linalg.inv(A), \": su inversa es\")"
      ]
    },
    {
      "cell_type": "markdown",
      "metadata": {
        "id": "0KWVkUGjQay0"
      },
      "source": [
        "## EJERCICIO 8"
      ]
    },
    {
      "cell_type": "markdown",
      "metadata": {
        "id": "oGk7wFHUQay1"
      },
      "source": [
        "verifica si una metriz tiene un determinante igual o no a 0, si es distinto calcula la inversa, si no lo tiene, no la calcula"
      ]
    },
    {
      "cell_type": "code",
      "execution_count": null,
      "metadata": {
        "id": "kYnMhLshQay2",
        "outputId": "46cd36bc-ff6a-4a01-a1b6-97bdb4c680b1"
      },
      "outputs": [
        {
          "name": "stdout",
          "output_type": "stream",
          "text": [
            "[[ 1.28571429 -0.28571429 -0.14285714]\n",
            " [-0.47619048  0.14285714  0.23809524]\n",
            " [ 0.19047619  0.14285714 -0.0952381 ]]\n"
          ]
        }
      ],
      "source": [
        "det = np.linalg.det(K_1)\n",
        "a = 0\n",
        "if det == 0:\n",
        "    print(\"la matriz no tiene inversa\")\n",
        "\n",
        "else:\n",
        "    inv = np.linalg.inv(K_1)\n",
        "\n",
        "print(inv)"
      ]
    },
    {
      "cell_type": "markdown",
      "metadata": {
        "id": "kNh1B1YHQay3"
      },
      "source": [
        "## EJERCICIO 9"
      ]
    },
    {
      "cell_type": "markdown",
      "metadata": {
        "id": "x00vOiIeQay3"
      },
      "source": [
        "pasa un numero decimal a su forma octal, binario y hexadecimal"
      ]
    },
    {
      "cell_type": "code",
      "execution_count": null,
      "metadata": {
        "id": "w3rPNc-9Qay4",
        "outputId": "5bcf78ab-db10-4d5d-8d8a-a093595abc1a"
      },
      "outputs": [
        {
          "name": "stdout",
          "output_type": "stream",
          "text": [
            "binario:  0b10111101000 octal:  0o2750 hexadecimál:  0x5e8\n"
          ]
        }
      ],
      "source": [
        "numero = 1512\n",
        "print(\"binario: \", bin(numero), \"octal: \", oct(numero), \"hexadecimál: \", hex(numero))"
      ]
    },
    {
      "cell_type": "markdown",
      "metadata": {
        "id": "_DG9XDL8Qay5"
      },
      "source": [
        "## EJERCICIO 10"
      ]
    },
    {
      "cell_type": "code",
      "execution_count": null,
      "metadata": {
        "id": "9qIoaGcWQay5",
        "outputId": "ed34fe80-c894-484c-e852-7d7cf3daabc9"
      },
      "outputs": [
        {
          "name": "stdout",
          "output_type": "stream",
          "text": [
            "O(x**3)\n"
          ]
        }
      ],
      "source": [
        "import sympy as sp\n",
        "x = sp.symbols(\"x\")\n",
        "f = x**3\n",
        "\n",
        "x0 = 0\n",
        "serie_de_t = f.series(x,x0, 3)\n",
        "print(serie_de_t)\n",
        "\n"
      ]
    }
  ],
  "metadata": {
    "kernelspec": {
      "display_name": "Python 3",
      "language": "python",
      "name": "python3"
    },
    "language_info": {
      "codemirror_mode": {
        "name": "ipython",
        "version": 3
      },
      "file_extension": ".py",
      "mimetype": "text/x-python",
      "name": "python",
      "nbconvert_exporter": "python",
      "pygments_lexer": "ipython3",
      "version": "3.11.9"
    },
    "colab": {
      "provenance": [],
      "include_colab_link": true
    }
  },
  "nbformat": 4,
  "nbformat_minor": 0
}